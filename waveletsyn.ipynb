{
 "cells": [
  {
   "cell_type": "code",
   "execution_count": 1,
   "id": "pacific-think",
   "metadata": {},
   "outputs": [],
   "source": [
    "def ricker(f, tn, dt):\n",
    "    import numpy as np\n",
    "\n",
    "    t = np.arange(-np.floor(tn / 2), np.floor(tn / 2) + dt, dt) / 1000\n",
    "    w = (1 - 2 * np.pi ** 2 * f ** 2 * t ** 2) * np.exp(-np.pi ** 2 * f ** 2 * t ** 2)\n",
    "\n",
    "    return t, w\n",
    "\n",
    "\n",
    "def ormsby(f1, f2, f3, f4, tn, dt):\n",
    "    import numpy as np\n",
    "\n",
    "    t = np.arange(-np.floor(tn / 2), np.floor(tn / 2) + dt, dt) / 1000\n",
    "    a4 = (np.pi * f4) ** 2 / (np.pi * f4 - np.pi * f3) * np.sinc(f4 * t)**2\n",
    "    a3 = (np.pi * f3) ** 2 / (np.pi * f4 - np.pi * f3) * np.sinc(f3 * t)**2\n",
    "    a2 = (np.pi * f2) ** 2 / (np.pi * f2 - np.pi * f1) * np.sinc(f2 * t)**2\n",
    "    a1 = (np.pi * f1) ** 2 / (np.pi * f2 - np.pi * f1) * np.sinc(f1 * t)**2\n",
    "\n",
    "    w = (a4 - a3) - (a2 - a1)\n",
    "    w = w/np.max(w)\n",
    "\n",
    "    return t, w"
   ]
  }
 ],
 "metadata": {
  "kernelspec": {
   "display_name": "Python 3",
   "language": "python",
   "name": "python3"
  },
  "language_info": {
   "codemirror_mode": {
    "name": "ipython",
    "version": 3
   },
   "file_extension": ".py",
   "mimetype": "text/x-python",
   "name": "python",
   "nbconvert_exporter": "python",
   "pygments_lexer": "ipython3",
   "version": "3.8.8"
  }
 },
 "nbformat": 4,
 "nbformat_minor": 5
}
